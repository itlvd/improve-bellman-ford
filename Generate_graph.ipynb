{
 "cells": [
  {
   "cell_type": "code",
   "execution_count": 1,
   "metadata": {},
   "outputs": [],
   "source": [
    "import networkx as nx\n",
    "import random"
   ]
  },
  {
   "cell_type": "code",
   "execution_count": 2,
   "metadata": {},
   "outputs": [],
   "source": [
    "#====================Setup variable =================================\n",
    "num_node = 100\n",
    "p = 0.5\n",
    "lenfrom = 1\n",
    "lenend = 10\n",
    "negative = False\n",
    "wantdraw = False\n",
    "#====================================================================\n",
    "G = nx.random_geometric_graph(num_node,p)\n",
    "D = nx.DiGraph()\n",
    "p = 0.5\n",
    "D.add_nodes_from(G.nodes)\n",
    "for u,v in G.edges():\n",
    "    w = random.randint(-lenend,-lenfrom) if random.random() < 0.5 and negative == True else random.randint(lenfrom,lenend)\n",
    "    if random.random()<p:\n",
    "        D.add_weighted_edges_from([(u,v,w)])\n",
    "    else:\n",
    "        D.add_weighted_edges_from([(v,u,w)])\n",
    "nx.draw(D,node_size=200,with_labels=False) if wantdraw == True else 0\n",
    "G =D"
   ]
  },
  {
   "cell_type": "code",
   "execution_count": 3,
   "metadata": {},
   "outputs": [],
   "source": [
    "graph = []\n",
    "for node in G.nodes:\n",
    "    graph += list(G.out_edges(node))\n",
    "    graph += list(G.in_edges(node))\n",
    "graph\n",
    "graph = list(dict.fromkeys(graph)) # remove duplicate edge"
   ]
  },
  {
   "cell_type": "code",
   "execution_count": 4,
   "metadata": {},
   "outputs": [],
   "source": [
    "dict_weight = nx.get_edge_attributes(G, \"weight\")\n",
    "final = []\n",
    "for edge in graph:\n",
    "    final.append(edge + tuple([dict_weight[edge]]))"
   ]
  },
  {
   "cell_type": "code",
   "execution_count": 5,
   "metadata": {},
   "outputs": [],
   "source": [
    "#write to file\n",
    "f = open(\"./data_demo/data_generate.txt\",\"w\")\n",
    "for edge in final:\n",
    "    f.write(str(edge[0]) + \"->\" + str(edge[1]) + \"=\" + str(edge[2]))\n",
    "    f.write(\"\\n\")\n",
    "f.close()"
   ]
  },
  {
   "cell_type": "code",
   "execution_count": null,
   "metadata": {},
   "outputs": [],
   "source": []
  }
 ],
 "metadata": {
  "kernelspec": {
   "display_name": "Python 3.8.8 ('min_ds-env')",
   "language": "python",
   "name": "python3"
  },
  "language_info": {
   "codemirror_mode": {
    "name": "ipython",
    "version": 3
   },
   "file_extension": ".py",
   "mimetype": "text/x-python",
   "name": "python",
   "nbconvert_exporter": "python",
   "pygments_lexer": "ipython3",
   "version": "3.8.13"
  },
  "orig_nbformat": 4,
  "vscode": {
   "interpreter": {
    "hash": "43dd3f7bcb4bf646c4df50ff3a5d72a6d9124a799c65726153a69fc9dc4ae274"
   }
  }
 },
 "nbformat": 4,
 "nbformat_minor": 2
}
