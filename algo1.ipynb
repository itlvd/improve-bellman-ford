{
 "cells": [
  {
   "cell_type": "code",
   "execution_count": 3,
   "metadata": {},
   "outputs": [
    {
     "ename": "TypeError",
     "evalue": "unsupported operand type(s) for +: 'float' and 'list'",
     "output_type": "error",
     "traceback": [
      "\u001b[1;31m---------------------------------------------------------------------------\u001b[0m",
      "\u001b[1;31mTypeError\u001b[0m                                 Traceback (most recent call last)",
      "\u001b[1;32mc:\\Users\\lvd\\Desktop\\Graph\\algo1.ipynb Cell 1'\u001b[0m in \u001b[0;36m<cell line: 25>\u001b[1;34m()\u001b[0m\n\u001b[0;32m     <a href='vscode-notebook-cell:/c%3A/Users/lvd/Desktop/Graph/algo1.ipynb#ch0000000?line=22'>23</a>\u001b[0m graph \u001b[39m=\u001b[39m [[\u001b[39m0\u001b[39m,\u001b[39m1\u001b[39m,\u001b[39m2\u001b[39m],[\u001b[39m0\u001b[39m,\u001b[39m2\u001b[39m,\u001b[39m6\u001b[39m],[\u001b[39m1\u001b[39m,\u001b[39m2\u001b[39m,\u001b[39m3\u001b[39m],[\u001b[39m2\u001b[39m,\u001b[39m3\u001b[39m,\u001b[39m2\u001b[39m]]\n\u001b[0;32m     <a href='vscode-notebook-cell:/c%3A/Users/lvd/Desktop/Graph/algo1.ipynb#ch0000000?line=23'>24</a>\u001b[0m n \u001b[39m=\u001b[39m \u001b[39m4\u001b[39m\n\u001b[1;32m---> <a href='vscode-notebook-cell:/c%3A/Users/lvd/Desktop/Graph/algo1.ipynb#ch0000000?line=24'>25</a>\u001b[0m basicBellmanFord(start,graph,n)\n",
      "\u001b[1;32mc:\\Users\\lvd\\Desktop\\Graph\\algo1.ipynb Cell 1'\u001b[0m in \u001b[0;36mbasicBellmanFord\u001b[1;34m(start, graph, n)\u001b[0m\n\u001b[0;32m     <a href='vscode-notebook-cell:/c%3A/Users/lvd/Desktop/Graph/algo1.ipynb#ch0000000?line=15'>16</a>\u001b[0m \u001b[39mfor\u001b[39;00m i \u001b[39min\u001b[39;00m \u001b[39mrange\u001b[39m(\u001b[39mlen\u001b[39m(D) \u001b[39m-\u001b[39m \u001b[39m1\u001b[39m):\n\u001b[0;32m     <a href='vscode-notebook-cell:/c%3A/Users/lvd/Desktop/Graph/algo1.ipynb#ch0000000?line=16'>17</a>\u001b[0m     \u001b[39mfor\u001b[39;00m s,d,w \u001b[39min\u001b[39;00m graph:\n\u001b[1;32m---> <a href='vscode-notebook-cell:/c%3A/Users/lvd/Desktop/Graph/algo1.ipynb#ch0000000?line=17'>18</a>\u001b[0m         relax(D,s,d,w,P)\n\u001b[0;32m     <a href='vscode-notebook-cell:/c%3A/Users/lvd/Desktop/Graph/algo1.ipynb#ch0000000?line=18'>19</a>\u001b[0m print_solution(D)\n",
      "\u001b[1;32mc:\\Users\\lvd\\Desktop\\Graph\\algo1.ipynb Cell 1'\u001b[0m in \u001b[0;36mrelax\u001b[1;34m(D, P, s, d, w)\u001b[0m\n\u001b[0;32m      <a href='vscode-notebook-cell:/c%3A/Users/lvd/Desktop/Graph/algo1.ipynb#ch0000000?line=0'>1</a>\u001b[0m \u001b[39mdef\u001b[39;00m \u001b[39mrelax\u001b[39m(D, P,s,d,w):\n\u001b[1;32m----> <a href='vscode-notebook-cell:/c%3A/Users/lvd/Desktop/Graph/algo1.ipynb#ch0000000?line=1'>2</a>\u001b[0m     \u001b[39mif\u001b[39;00m D[d] \u001b[39m>\u001b[39m D[s] \u001b[39m+\u001b[39;49m w \u001b[39mand\u001b[39;00m D[s] \u001b[39m!=\u001b[39m \u001b[39mfloat\u001b[39m(\u001b[39m\"\u001b[39m\u001b[39mInf\u001b[39m\u001b[39m\"\u001b[39m):\n\u001b[0;32m      <a href='vscode-notebook-cell:/c%3A/Users/lvd/Desktop/Graph/algo1.ipynb#ch0000000?line=2'>3</a>\u001b[0m         D[d] \u001b[39m=\u001b[39m D[s] \u001b[39m+\u001b[39m w\n\u001b[0;32m      <a href='vscode-notebook-cell:/c%3A/Users/lvd/Desktop/Graph/algo1.ipynb#ch0000000?line=3'>4</a>\u001b[0m         P[d] \u001b[39m=\u001b[39m s\n",
      "\u001b[1;31mTypeError\u001b[0m: unsupported operand type(s) for +: 'float' and 'list'"
     ]
    }
   ],
   "source": [
    "def relax(D, P,s,d,w):\n",
    "    if D[d] > D[s] + w and D[s] != float(\"Inf\"):\n",
    "        D[d] = D[s] + w\n",
    "        P[d] = s\n",
    "\n",
    "def print_solution(dist):\n",
    "    print(\"Vertex Distance from Source\")\n",
    "    for i in range(len(dist)):\n",
    "        print(\"{0}\\t\\t{1}\".format(i, dist[i]))\n",
    "\n",
    "\n",
    "def basicBellmanFord(start,graph, n):\n",
    "    D = [float(\"Inf\")] * n\n",
    "    P = [0] * n\n",
    "    D[start] = 0\n",
    "    for i in range(len(D) - 1):\n",
    "        for s,d,w in graph:\n",
    "            relax(D,s,d,w,P)\n",
    "    print_solution(D)\n",
    "            \n",
    "\n",
    "start = 0\n",
    "graph = [[0,1,2],[0,2,6],[1,2,3],[2,3,2]]\n",
    "n = 4\n",
    "basicBellmanFord(start,graph,n)\n",
    "\n"
   ]
  },
  {
   "cell_type": "code",
   "execution_count": null,
   "metadata": {},
   "outputs": [],
   "source": []
  }
 ],
 "metadata": {
  "kernelspec": {
   "display_name": "Python 3.8.8 ('min_ds-env')",
   "language": "python",
   "name": "python3"
  },
  "language_info": {
   "codemirror_mode": {
    "name": "ipython",
    "version": 3
   },
   "file_extension": ".py",
   "mimetype": "text/x-python",
   "name": "python",
   "nbconvert_exporter": "python",
   "pygments_lexer": "ipython3",
   "version": "3.8.13"
  },
  "orig_nbformat": 4,
  "vscode": {
   "interpreter": {
    "hash": "43dd3f7bcb4bf646c4df50ff3a5d72a6d9124a799c65726153a69fc9dc4ae274"
   }
  }
 },
 "nbformat": 4,
 "nbformat_minor": 2
}
